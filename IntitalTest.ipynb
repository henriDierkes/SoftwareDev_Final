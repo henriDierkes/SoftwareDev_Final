{
 "cells": [
  {
   "cell_type": "code",
   "execution_count": 3,
   "id": "007b8d65-8b15-408d-898a-f3d85ede66d0",
   "metadata": {},
   "outputs": [],
   "source": [
    "import pysptools.eea as sp_extract\n",
    "import numpy as np"
   ]
  }
 ],
 "metadata": {
  "kernelspec": {
   "display_name": "Python 3 (ipykernel)",
   "language": "python",
   "name": "python3"
  },
  "language_info": {
   "codemirror_mode": {
    "name": "ipython",
    "version": 3
   },
   "file_extension": ".py",
   "mimetype": "text/x-python",
   "name": "python",
   "nbconvert_exporter": "python",
   "pygments_lexer": "ipython3",
   "version": "3.10.4"
  }
 },
 "nbformat": 4,
 "nbformat_minor": 5
}
